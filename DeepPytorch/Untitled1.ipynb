{
 "cells": [
  {
   "cell_type": "code",
   "execution_count": 1,
   "metadata": {},
   "outputs": [],
   "source": [
    "import torch\n",
    "import torch.nn as nn"
   ]
  },
  {
   "cell_type": "code",
   "execution_count": 2,
   "metadata": {},
   "outputs": [
    {
     "data": {
      "text/plain": [
       "'1.4.0'"
      ]
     },
     "execution_count": 2,
     "metadata": {},
     "output_type": "execute_result"
    }
   ],
   "source": [
    "torch.__version__"
   ]
  },
  {
   "cell_type": "code",
   "execution_count": null,
   "metadata": {},
   "outputs": [],
   "source": [
    "class NPLM(nn.Module):\n",
    "    \n",
    "    def __init__(self):\n",
    "        super(NPLM, self).__init__()\n",
    "        self.C = nn.Embedding(n_class, m)"
   ]
  },
  {
   "cell_type": "code",
   "execution_count": 21,
   "metadata": {},
   "outputs": [],
   "source": [
    "# Weights를 torch.Tensor(num_embeddings, embedding_dim)으로 줌\n",
    "C1 = nn.Embedding(1000, 30)\n",
    "# Weights를 torch.Tensor(out_features, in_features)로 줌\n",
    "C2 = nn.Linear(1000, 30, bias=False)"
   ]
  },
  {
   "cell_type": "code",
   "execution_count": 36,
   "metadata": {},
   "outputs": [
    {
     "data": {
      "text/plain": [
       "Parameter containing:\n",
       "tensor([[ 1.6523e-01, -6.2643e-01,  7.5074e-01,  ...,  3.1530e-01,\n",
       "         -1.3059e+00, -8.4219e-01],\n",
       "        [ 1.0943e+00,  3.0558e-01,  1.5306e+00,  ...,  1.9959e-01,\n",
       "          1.3710e-01,  1.2213e-01],\n",
       "        [-1.1486e+00,  1.4149e-01, -1.4083e-01,  ...,  3.3999e-01,\n",
       "         -1.1245e+00,  8.8083e-01],\n",
       "        ...,\n",
       "        [-9.9310e-01,  2.2011e+00,  9.9867e-01,  ...,  6.2868e-01,\n",
       "         -1.4793e-03,  2.6934e-02],\n",
       "        [ 1.0566e+00, -8.8554e-01,  3.8041e-02,  ..., -2.9424e+00,\n",
       "          3.3787e-03,  7.8058e-01],\n",
       "        [ 1.4642e+00, -1.4052e-01,  7.6028e-01,  ..., -8.1710e-01,\n",
       "         -2.2862e-01,  1.0831e+00]], requires_grad=True)"
      ]
     },
     "execution_count": 36,
     "metadata": {},
     "output_type": "execute_result"
    }
   ],
   "source": [
    "list(C1.parameters())[0]"
   ]
  },
  {
   "cell_type": "code",
   "execution_count": 37,
   "metadata": {},
   "outputs": [
    {
     "data": {
      "text/plain": [
       "Parameter containing:\n",
       "tensor([[ 0.0182, -0.0316, -0.0024,  ..., -0.0155, -0.0107,  0.0142],\n",
       "        [ 0.0174, -0.0264,  0.0243,  ...,  0.0194,  0.0194,  0.0197],\n",
       "        [-0.0277, -0.0207,  0.0268,  ..., -0.0027, -0.0103, -0.0294],\n",
       "        ...,\n",
       "        [-0.0294, -0.0084,  0.0247,  ..., -0.0068, -0.0153, -0.0285],\n",
       "        [-0.0277,  0.0074,  0.0209,  ...,  0.0275,  0.0258, -0.0311],\n",
       "        [ 0.0122, -0.0180,  0.0137,  ..., -0.0166,  0.0157, -0.0257]],\n",
       "       requires_grad=True)"
      ]
     },
     "execution_count": 37,
     "metadata": {},
     "output_type": "execute_result"
    }
   ],
   "source": [
    "list(C2.parameters())[0]"
   ]
  },
  {
   "cell_type": "code",
   "execution_count": 38,
   "metadata": {},
   "outputs": [
    {
     "data": {
      "text/plain": [
       "(torch.Size([1000, 30]), torch.Size([30, 1000]))"
      ]
     },
     "execution_count": 38,
     "metadata": {},
     "output_type": "execute_result"
    }
   ],
   "source": [
    "list(C1.parameters())[0].size(), list(C2.parameters())[0].size()"
   ]
  },
  {
   "cell_type": "code",
   "execution_count": null,
   "metadata": {},
   "outputs": [],
   "source": []
  }
 ],
 "metadata": {
  "kernelspec": {
   "display_name": "basic",
   "language": "python",
   "name": "basic"
  },
  "language_info": {
   "codemirror_mode": {
    "name": "ipython",
    "version": 3
   },
   "file_extension": ".py",
   "mimetype": "text/x-python",
   "name": "python",
   "nbconvert_exporter": "python",
   "pygments_lexer": "ipython3",
   "version": "3.6.9"
  }
 },
 "nbformat": 4,
 "nbformat_minor": 2
}
