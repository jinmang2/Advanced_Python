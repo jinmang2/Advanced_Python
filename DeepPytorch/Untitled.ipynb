{
 "cells": [
  {
   "cell_type": "code",
   "execution_count": 1,
   "metadata": {},
   "outputs": [],
   "source": [
    "import torch\n",
    "import math\n",
    "from collections import OrderedDict\n",
    "import torch.nn.functional as F"
   ]
  },
  {
   "cell_type": "code",
   "execution_count": 2,
   "metadata": {},
   "outputs": [],
   "source": [
    "class Parameter(torch.Tensor):\n",
    "    def __new__(cls, data=None, requires_grad=True):\n",
    "        if data is None:\n",
    "            data = torch.Tensor()\n",
    "        return torch.Tensor._make_subclass(cls, data, requires_grad)\n",
    "    \n",
    "    def __deepcopy__(self, memo):\n",
    "        if id(self) in memo:\n",
    "            return memo[id(self)]\n",
    "        else:\n",
    "            result = type(self)(self.data.clone(memory_format=torch.preserve_format),\n",
    "                                self.requires_grad)\n",
    "            memo[id(self)] = result\n",
    "            return result\n",
    "        \n",
    "    def __repr__(self):\n",
    "        return 'Parameter containing:\\n' + super(Parameter, self).__repr__()\n",
    "    \n",
    "    def __reduce_ex__(self, proto):\n",
    "        # See Note [Don't serialize hooks]\n",
    "        return (\n",
    "            torch.utils._rebuild_parameter,\n",
    "            (self.data, self.requires_grad, OrderedDict())\n",
    "        )"
   ]
  },
  {
   "cell_type": "code",
   "execution_count": 3,
   "metadata": {},
   "outputs": [],
   "source": [
    "class simpleModule:\n",
    "    \n",
    "    def __init__(self):\n",
    "        self._parameters = OrderedDict()\n",
    "        self._buffers = OrderedDict()\n",
    "        self._modules = OrderedDict()\n",
    "        \n",
    "    def __getattr__(self, name):\n",
    "        if '_parameters' in self.__dict__:\n",
    "            _parameters = self.__dict__['_parameters']\n",
    "            if name in _parameters:\n",
    "                return _parameters[name]\n",
    "        if '_buffers' in self.__dict__:\n",
    "            _buffers = self.__dict__['_buffers']\n",
    "            if name in _buffers:\n",
    "                return _buffers[name]\n",
    "        if '_modules' in self.__dict__:\n",
    "            modules = self.__dict__['_modules']\n",
    "            if name in modules:\n",
    "                return modules[name]\n",
    "        raise AttributeError(\"'{}' object has no attribute '{}'\".format(\n",
    "            type(self).__name__, name))\n",
    "        \n",
    "    def __setattr__(self, name, value):\n",
    "        if isinstance(value, Parameter):\n",
    "            self.register_parameter(name, value)\n",
    "        elif isinstance(value, simpleModule):\n",
    "            modules = self.__dict__.get('_modules')\n",
    "            modules[name] = value\n",
    "        else:\n",
    "            buffers = self.__dict__.get('_buffers')\n",
    "            if (buffers is not None) and (name in buffers):\n",
    "                if (value is not None) and (not isinstance(value, torch.Tensor)):\n",
    "                    raise TypeError('Nope.')\n",
    "                    buffers[name] = value\n",
    "            else:\n",
    "                object.__setattr__(self, name, value)\n",
    "        \n",
    "    def register_parameter(self, name, value):\n",
    "        self._parameters[name] = value"
   ]
  },
  {
   "cell_type": "code",
   "execution_count": null,
   "metadata": {},
   "outputs": [],
   "source": []
  }
 ],
 "metadata": {
  "kernelspec": {
   "display_name": "basic",
   "language": "python",
   "name": "basic"
  },
  "language_info": {
   "codemirror_mode": {
    "name": "ipython",
    "version": 3
   },
   "file_extension": ".py",
   "mimetype": "text/x-python",
   "name": "python",
   "nbconvert_exporter": "python",
   "pygments_lexer": "ipython3",
   "version": "3.6.9"
  }
 },
 "nbformat": 4,
 "nbformat_minor": 2
}
